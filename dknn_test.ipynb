{
 "cells": [
  {
   "cell_type": "code",
   "execution_count": 1,
   "metadata": {},
   "outputs": [],
   "source": [
    "import torch\n",
    "import torch.nn as nn\n",
    "import torch.optim as optim\n",
    "from torch import unsqueeze, where, matmul, sum, repeat_interleave, sqrt, topk, flip, cat\n",
    "from torch.utils.tensorboard import SummaryWriter\n",
    "\n",
    "import numpy as np\n",
    "\n",
    "from dataprocess.cic_ids_2017 import CIC_IDS_2107_DataLoader\n",
    "from net.linear import linear_3"
   ]
  },
  {
   "cell_type": "code",
   "execution_count": 2,
   "metadata": {},
   "outputs": [],
   "source": [
    "def topk_with_distance(src, dis, k):\n",
    "    \"\"\"\n",
    "    find for every data in src its k-nearest neighbor from dis with index and distance \n",
    "    params:\n",
    "        src: (N, C) \n",
    "        dis: (M, C)\n",
    "        k: numbers to select from dis\n",
    "    return:\n",
    "        indices: (N, k)\n",
    "        distance: (N, k) \n",
    "    \"\"\"\n",
    "    N, _ =src.shape\n",
    "    M, _ = dis.shape\n",
    "    src_sqare = repeat_interleave(sum(src ** 2, -1).reshape(N,1), M, 1, output_size=M) # (N, M)\n",
    "    dis_sqare = repeat_interleave(sum(dis ** 2, -1).reshape(1,M), N, 0, output_size=N) # (N, M)\n",
    "    src_ids = matmul(src, dis.permute(1,0)) # (N, M)\n",
    "    distance = src_sqare + dis_sqare - 2 * src_ids\n",
    "    distance, indices = topk(distance, k, 1) # (N, k)\n",
    "    distance = sqrt(distance)\n",
    "\n",
    "    return flip(indices,dims=[1]), flip(distance, dims=[1])"
   ]
  },
  {
   "cell_type": "code",
   "execution_count": 3,
   "metadata": {},
   "outputs": [],
   "source": [
    "def nonconformity_measure(train_index, train_distance, train_label):\n",
    "    \"\"\"\n",
    "    params:\n",
    "        train_index: (N, k)\n",
    "        train_distance: (N, k)\n",
    "        label: (M, L)\n",
    "    return:\n",
    "        nonconformity: (N, L) \n",
    "    \"\"\"\n",
    "    N, k = train_distance.shape\n",
    "    M, L = train_label.shape\n",
    "    # train_distance = repeat_interleave(train_distance.reshape(N, 1, k), L, 1, output_size=L) # (N, L, k)\n",
    "    train_distance = train_distance.reshape(N, 1, k)\n",
    "    labels = train_label[train_index] # (N, k, L)\n",
    "    labels = ~labels\n",
    "    nonconformity = matmul(train_distance, labels.float()) # (N, 1, L)\n",
    "    nonconformity = nonconformity.reshape(N, L)\n",
    "    nonconformity = nonconformity ** (-1)\n",
    "    return nonconformity"
   ]
  },
  {
   "cell_type": "code",
   "execution_count": 4,
   "metadata": {},
   "outputs": [],
   "source": [
    "class kNN(nn.Module):\n",
    "    \"\"\"\n",
    "    params:\n",
    "        k:\n",
    "    inputs:\n",
    "        feature: (M, C)\n",
    "        train_feature: (N, C)\n",
    "        train_label: (N, L), one-hot code\n",
    "    return:\n",
    "        nonconformity: (M, L)\n",
    "    \"\"\"\n",
    "    def __init__(self, k):\n",
    "        super(kNN, self).__init__()\n",
    "        self.k = k\n",
    "    \n",
    "    def forward(self, feature, train_feature, train_label):\n",
    "        index, distance = topk_with_distance(feature, train_feature, self.k) # (M, k), (M, k)\n",
    "        nonconformity = nonconformity_measure(index, distance, train_label) # (M, L)\n",
    "        return nonconformity"
   ]
  },
  {
   "cell_type": "code",
   "execution_count": 10,
   "metadata": {},
   "outputs": [],
   "source": [
    "class DkNN(nn.Module):\n",
    "    \"\"\"\n",
    "    params:\n",
    "\n",
    "    inputs:\n",
    "        nonconformity: (N, F, L)\n",
    "        cali_nonconformity: (M,)\n",
    "    return:\n",
    "        logits: (N, L)\n",
    "    \"\"\"\n",
    "    def __init__(self):\n",
    "        super(kNN, self).__init__()\n",
    "    \n",
    "    def forward(self, nonconformity, cali_nonconformity):\n",
    "        M, = cali_nonconformity.shape\n",
    "        N, F, L = nonconformity.shape\n",
    "        nonconformity = repeat_interleave(sum(nonconformity, 1).reshape(N, L, 1), M, 2, output_size=M) # (N, L, M)\n",
    "        _conformity = nonconformity - cali_nonconformity <= 0 # (N, L, M)\n",
    "        conformity = sum(_conformity, 2) / M # (N, L)\n",
    "        return conformity"
   ]
  },
  {
   "cell_type": "code",
   "execution_count": 11,
   "metadata": {},
   "outputs": [],
   "source": [
    "class DkNN_linear(nn.Module):\n",
    "    def __init__(self, input_channel, output_channel, k):\n",
    "        super(DkNN_linear, self).__init__()\n",
    "        self.linear = linear_3(input_channel, output_channel)\n",
    "        self.knn = kNN(k)\n",
    "        self.DkNN = DkNN()\n",
    "    \n",
    "    def forward(self, input_data, train_feature_list, train_label, cali_nonconformity):\n",
    "        N, C = input_data.shape\n",
    "        M, L = train_label.shape\n",
    "        x1, x2, x3 = self.linear(input_data) #(N, C)\n",
    "        nonconformity1 = self.knn(x1, train_feature_list[0], train_label).reshape(N, 1, L) # (N, 1, L)\n",
    "        nonconformity2 = self.knn(x2, train_feature_list[1], train_label).reshape(N, 1, L) # (N, 1, L)\n",
    "        nonconformity3 = self.knn(x3, train_feature_list[2], train_label).reshape(N, 1, L) # (N, 1, L)\n",
    "        \n",
    "        nonconformity = cat((nonconformity1, nonconformity2, nonconformity3), dim=1)\n",
    "        return self.DkNN(nonconformity, cali_nonconformity)"
   ]
  },
  {
   "cell_type": "code",
   "execution_count": null,
   "metadata": {},
   "outputs": [],
   "source": []
  }
 ],
 "metadata": {
  "interpreter": {
   "hash": "1d372851e929683907f22a981204426c4d48f24f5c1f70c60438207dfe1ba0b7"
  },
  "kernelspec": {
   "display_name": "Python 3.7.12 ('py37@pytorch')",
   "language": "python",
   "name": "python3"
  },
  "language_info": {
   "codemirror_mode": {
    "name": "ipython",
    "version": 3
   },
   "file_extension": ".py",
   "mimetype": "text/x-python",
   "name": "python",
   "nbconvert_exporter": "python",
   "pygments_lexer": "ipython3",
   "version": "3.7.12"
  },
  "orig_nbformat": 4
 },
 "nbformat": 4,
 "nbformat_minor": 2
}
