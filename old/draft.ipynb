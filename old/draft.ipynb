{
 "cells": [
  {
   "cell_type": "code",
   "execution_count": 17,
   "metadata": {},
   "outputs": [],
   "source": [
    "import torch\n",
    "import torch.nn as nn\n",
    "from torch import topk\n",
    "from torch import bmm\n",
    "from torch import transpose\n",
    "from torch import sum\n",
    "import numpy as np"
   ]
  },
  {
   "cell_type": "code",
   "execution_count": 33,
   "metadata": {},
   "outputs": [
    {
     "name": "stdout",
     "output_type": "stream",
     "text": [
      "tensor([[[14,  0, 19,  1, 14,  7],\n",
      "         [ 3, 14, 14, 14,  3, 14]],\n",
      "\n",
      "        [[ 5,  5,  0,  3,  7,  3],\n",
      "         [ 7,  1, 15,  8, 15,  7]]], dtype=torch.int32)\n",
      "tensor([[[14,  0, 19,  1, 14,  7],\n",
      "         [14,  0, 19,  1, 14,  7],\n",
      "         [ 3, 14, 14, 14,  3, 14],\n",
      "         [ 3, 14, 14, 14,  3, 14]],\n",
      "\n",
      "        [[ 5,  5,  0,  3,  7,  3],\n",
      "         [ 5,  5,  0,  3,  7,  3],\n",
      "         [ 7,  1, 15,  8, 15,  7],\n",
      "         [ 7,  1, 15,  8, 15,  7]]], dtype=torch.int32)\n",
      "tensor([[[10, 11, 18, 14, 15,  4],\n",
      "         [10, 15, 10,  6, 18, 14]],\n",
      "\n",
      "        [[13, 14,  2,  0, 13, 19],\n",
      "         [17,  4,  0,  2, 13, 11]]], dtype=torch.int32)\n",
      "tensor([[[-1468, -1372],\n",
      "         [-1468, -1372],\n",
      "         [-1466, -1428],\n",
      "         [-1466, -1428]],\n",
      "\n",
      "        [[ -566,  -470],\n",
      "         [ -566,  -470],\n",
      "         [ -926,  -822],\n",
      "         [ -926,  -822]]], dtype=torch.int32)\n"
     ]
    }
   ],
   "source": [
    "x = torch.tensor(np.random.randint(0,20, size=(2,2, 6)), dtype=torch.int32)\n",
    "print(x)\n",
    "x = x.repeat(1, 1, 2).view(2, 4, 6)\n",
    "print(x)\n",
    "b = torch.tensor(np.random.randint(0,20, size=(2,2, 6)), dtype=torch.int32)\n",
    "print(b)\n",
    "result = -2 * bmm(x, transpose(b, 2,1))\n",
    "print(result) "
   ]
  },
  {
   "cell_type": "code",
   "execution_count": 58,
   "metadata": {},
   "outputs": [],
   "source": [
    "def distance(src:torch.Tensor, dis:torch.Tensor):\n",
    "    \"\"\"\n",
    "    compute distance form every data in src to every data in dis\n",
    "    params:\n",
    "        src: (B, N, C) \n",
    "        dis: (B, M, C)\n",
    "    return:\n",
    "        distance: (B, N, M) \n",
    "    \"\"\"\n",
    "    _distance = -2 * bmm(src, transpose(dis, 2, 1)) # (B, N, M)\n",
    "    _distance += torch.sum(src ** 2, -1, keepdim=True) # (B, N, M) + (B, N, 1)\n",
    "    _distance += transpose(torch.sum(dis ** 2, -1, keepdim=True), 2, 1) # (B, N, M) + (B, 1, M)\n",
    "    return torch.pow(_distance, -2)"
   ]
  },
  {
   "cell_type": "code",
   "execution_count": 59,
   "metadata": {},
   "outputs": [
    {
     "name": "stdout",
     "output_type": "stream",
     "text": [
      "tensor([[[ 0.,  1.,  2.,  3.],\n",
      "         [ 4.,  5.,  6.,  7.]],\n",
      "\n",
      "        [[ 8.,  9., 10., 11.],\n",
      "         [12., 13., 14., 15.]]]) tensor([[[1., 1., 1., 1.],\n",
      "         [2., 2., 2., 2.]],\n",
      "\n",
      "        [[1., 1., 1., 1.],\n",
      "         [2., 2., 2., 2.]]])\n",
      "tensor([[[2.7778e-02, 2.7778e-02],\n",
      "         [1.3521e-04, 3.4294e-04]],\n",
      "\n",
      "        [[1.1569e-05, 1.8904e-05],\n",
      "         [2.5195e-06, 3.5069e-06]]])\n"
     ]
    }
   ],
   "source": [
    "a = torch.arange(0, 16, 1, dtype=torch.float32).view(2,2,4)\n",
    "b = torch.ones((2,2,4), dtype=torch.float32)\n",
    "b[:,1,:] = b[:,1,:] * 2\n",
    "print(a, b)\n",
    "dis = distance(a, b)\n",
    "print(dis)"
   ]
  },
  {
   "cell_type": "code",
   "execution_count": null,
   "metadata": {},
   "outputs": [],
   "source": []
  },
  {
   "cell_type": "code",
   "execution_count": null,
   "metadata": {},
   "outputs": [],
   "source": [
    "def topk_with_distance(src, dis, k):\n",
    "    \"\"\"\n",
    "    find for every data in src its k-nearest neighbor from dis with index and distance \n",
    "    params:\n",
    "        src: (B, N, C) \n",
    "        dis: (B, M, C)\n",
    "        k: numbers to select from dis\n",
    "    return:\n",
    "        dis_index_distance: (B, N, k, 2) \n",
    "    \"\"\"\n",
    "    ...\n",
    "    dis_index_distance = ...\n",
    "\n",
    "    return dis_index_distance"
   ]
  }
 ],
 "metadata": {
  "interpreter": {
   "hash": "d6012523c976ef1bcce85e119c3469a3f8f1d8cb66ef0d8b93cf00e121cb3e03"
  },
  "kernelspec": {
   "display_name": "Python 3.7.12 ('py37@pytorch')",
   "language": "python",
   "name": "python3"
  },
  "language_info": {
   "codemirror_mode": {
    "name": "ipython",
    "version": 3
   },
   "file_extension": ".py",
   "mimetype": "text/x-python",
   "name": "python",
   "nbconvert_exporter": "python",
   "pygments_lexer": "ipython3",
   "version": "3.7.12"
  },
  "orig_nbformat": 4
 },
 "nbformat": 4,
 "nbformat_minor": 2
}
